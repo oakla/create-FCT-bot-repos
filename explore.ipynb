{
 "cells": [
  {
   "cell_type": "code",
   "execution_count": 44,
   "metadata": {},
   "outputs": [],
   "source": [
    "import pandas as pd\n",
    "import numpy as np\n",
    "import datetime as dt\n",
    "\n",
    "input_path = r\"bot_data.xlsx\"\n",
    "df = pd.read_excel(input_path)"
   ]
  },
  {
   "cell_type": "code",
   "execution_count": 45,
   "metadata": {},
   "outputs": [],
   "source": [
    "class HeaderMapping:\n",
    "    bot_id = \"ID\"\n",
    "    priority = \"Final Priority (Numbered Order)\"\n",
    "    bot_name = \"Bot Name\"\n",
    "    description = \"Description\"\n",
    "    technology = \"Technology\"\n",
    "    app_architecture = \"App Architecture\"\n",
    "    process = \"Process\"\n",
    "    applications = \"Applications\"\n",
    "    inputs = \"Inputs\"\n",
    "    outputs = \"Outputs\"\n",
    "    bot_authors = \"Bot Author(s)\"\n",
    "    paths = \"Path to main script file\"\n",
    "    autobots_project_id = \"Autobots Project ID\"\n",
    "    usage_data_source = \"Usage Data Source\"\n",
    "    bot_user_team = \"Users of the bot (Business Team / Ops Team)\"\n",
    "    demo_status = \"Demo Status\"\n",
    "    demo_status_date = \"Demo Status Date\"\n",
    "    demo_recording_link = \"Demo Recording Link\"\n",
    "    onboarded_to_bpo = \"Onboarded to TCS BPO\"\n",
    "    owner = \"Owner\"\n",
    "    process_owner_contact = \"Process Owner contact\"\n",
    "    demonstration_contact = \"Demonstration Contact\""
   ]
  },
  {
   "cell_type": "code",
   "execution_count": 46,
   "metadata": {},
   "outputs": [],
   "source": [
    "df[HeaderMapping.priority] = pd.to_numeric(\n",
    "    df[HeaderMapping.priority], errors='coerce'\n",
    "    ).fillna(0).astype(int).astype(str).str.zfill(3).replace('000', 'N/A')"
   ]
  },
  {
   "cell_type": "code",
   "execution_count": 47,
   "metadata": {},
   "outputs": [],
   "source": [
    "df[HeaderMapping.bot_id] = pd.to_numeric(\n",
    "    df[HeaderMapping.bot_id], errors='coerce'\n",
    "    ).astype(str).str.zfill(3)\n"
   ]
  },
  {
   "cell_type": "code",
   "execution_count": 48,
   "metadata": {},
   "outputs": [
    {
     "name": "stderr",
     "output_type": "stream",
     "text": [
      "C:\\Users\\Alexander.Oakley\\AppData\\Local\\Temp\\ipykernel_53168\\2020308619.py:1: FutureWarning: DataFrame.applymap has been deprecated. Use DataFrame.map instead.\n",
      "  df = df.applymap(lambda x: x.strip() if isinstance(x, str) else x)\n",
      "C:\\Users\\Alexander.Oakley\\AppData\\Local\\Temp\\ipykernel_53168\\2020308619.py:2: FutureWarning: DataFrame.applymap has been deprecated. Use DataFrame.map instead.\n",
      "  df = df.applymap(lambda x: x.replace('\\n', '\\n - ') if isinstance(x, str) else x)\n"
     ]
    }
   ],
   "source": [
    "df = df.applymap(lambda x: x.strip() if isinstance(x, str) else x)\n",
    "df = df.applymap(lambda x: x.replace('\\n', '\\n - ') if isinstance(x, str) else x)"
   ]
  },
  {
   "cell_type": "code",
   "execution_count": 61,
   "metadata": {},
   "outputs": [
    {
     "data": {
      "text/plain": [
       "datetime.datetime(2024, 1, 23, 0, 0)"
      ]
     },
     "execution_count": 61,
     "metadata": {},
     "output_type": "execute_result"
    }
   ],
   "source": [
    "x = \"2024-01-23 00:00:00\"\n",
    "dt.datetime.strptime(x, \"%Y-%m-%d %H:%M:%S\")"
   ]
  },
  {
   "cell_type": "code",
   "execution_count": 64,
   "metadata": {},
   "outputs": [],
   "source": [
    "df = pd.read_excel(input_path, dtype={HeaderMapping.demo_status_date: str})"
   ]
  },
  {
   "cell_type": "code",
   "execution_count": 65,
   "metadata": {},
   "outputs": [
    {
     "data": {
      "text/plain": [
       "0                                        2024-01-23\n",
       "1                                        2024-01-23\n",
       "2                                        2024-01-22\n",
       "3                                        2024-01-10\n",
       "4                                               NaN\n",
       "5                                        2024-01-24\n",
       "6                                               NaN\n",
       "7                                               NaN\n",
       "8                            16/01/2024\\n09/01/2024\n",
       "9                                               NaN\n",
       "10                                              NaN\n",
       "11                                       2024-01-11\n",
       "12                                       2024-01-06\n",
       "13                                              NaN\n",
       "14                                              NaN\n",
       "15                                       2024-01-16\n",
       "16                                              NaN\n",
       "17                                       2024-02-01\n",
       "18                                              NaN\n",
       "19                                              NaN\n",
       "20                                       2024-01-18\n",
       "21                                              NaN\n",
       "22                                              NaN\n",
       "23                                              NaN\n",
       "24                                       2024-01-10\n",
       "25                                              NaN\n",
       "26                                              NaN\n",
       "27                                              NaN\n",
       "28                                              NaN\n",
       "29                                              NaN\n",
       "30                                              NaN\n",
       "31                                              NaN\n",
       "32                                       2024-01-09\n",
       "33                                              NaN\n",
       "34                                       2024-01-31\n",
       "35                                              NaN\n",
       "36    02/02/2024 (Email Template Generator meeting)\n",
       "Name: Demo Status Date, dtype: object"
      ]
     },
     "execution_count": 65,
     "metadata": {},
     "output_type": "execute_result"
    }
   ],
   "source": [
    "df[HeaderMapping.demo_status_date]\n",
    "\n",
    "def date_format(x):\n",
    "    try:\n",
    "        return dt.datetime.strptime(x, \"%Y-%m-%d %H:%M:%S\").strftime(\"%Y-%m-%d\")\n",
    "    except:\n",
    "        return x\n",
    "    \n",
    "df[HeaderMapping.demo_status_date].apply(date_format)"
   ]
  },
  {
   "cell_type": "code",
   "execution_count": 37,
   "metadata": {},
   "outputs": [
    {
     "name": "stdout",
     "output_type": "stream",
     "text": [
      "object\n"
     ]
    }
   ],
   "source": [
    "print(df[HeaderMapping.demo_status_date].dtype)\n"
   ]
  },
  {
   "cell_type": "code",
   "execution_count": 35,
   "metadata": {},
   "outputs": [
    {
     "name": "stderr",
     "output_type": "stream",
     "text": [
      "C:\\Users\\Alexander.Oakley\\AppData\\Local\\Temp\\ipykernel_53168\\3781602643.py:1: FutureWarning: The 'unit' keyword in TimedeltaIndex construction is deprecated and will be removed in a future version. Use pd.to_timedelta instead.\n",
      "  df[HeaderMapping.demo_status_date] = pd.TimedeltaIndex(df[HeaderMapping.demo_status_date], unit='d') + dt.datetime(1899, 12, 30)\n"
     ]
    },
    {
     "ename": "ValueError",
     "evalue": "unit must not be specified if the input contains a str",
     "output_type": "error",
     "traceback": [
      "\u001b[1;31m---------------------------------------------------------------------------\u001b[0m",
      "\u001b[1;31mValueError\u001b[0m                                Traceback (most recent call last)",
      "Cell \u001b[1;32mIn[35], line 1\u001b[0m\n\u001b[1;32m----> 1\u001b[0m df[HeaderMapping\u001b[38;5;241m.\u001b[39mdemo_status_date] \u001b[38;5;241m=\u001b[39m \u001b[43mpd\u001b[49m\u001b[38;5;241;43m.\u001b[39;49m\u001b[43mTimedeltaIndex\u001b[49m\u001b[43m(\u001b[49m\u001b[43mdf\u001b[49m\u001b[43m[\u001b[49m\u001b[43mHeaderMapping\u001b[49m\u001b[38;5;241;43m.\u001b[39;49m\u001b[43mdemo_status_date\u001b[49m\u001b[43m]\u001b[49m\u001b[43m,\u001b[49m\u001b[43m \u001b[49m\u001b[43munit\u001b[49m\u001b[38;5;241;43m=\u001b[39;49m\u001b[38;5;124;43m'\u001b[39;49m\u001b[38;5;124;43md\u001b[39;49m\u001b[38;5;124;43m'\u001b[39;49m\u001b[43m)\u001b[49m \u001b[38;5;241m+\u001b[39m dt\u001b[38;5;241m.\u001b[39mdatetime(\u001b[38;5;241m1899\u001b[39m, \u001b[38;5;241m12\u001b[39m, \u001b[38;5;241m30\u001b[39m)\n\u001b[0;32m      2\u001b[0m df[HeaderMapping\u001b[38;5;241m.\u001b[39mdemo_status_date]\n",
      "File \u001b[1;32mc:\\Users\\Alexander.Oakley\\my-stuff-noonedrive\\Code\\proj\\create-BoFCT-repos\\.venv\\Lib\\site-packages\\pandas\\core\\indexes\\timedeltas.py:211\u001b[0m, in \u001b[0;36mTimedeltaIndex.__new__\u001b[1;34m(cls, data, unit, freq, closed, dtype, copy, name)\u001b[0m\n\u001b[0;32m    207\u001b[0m         \u001b[38;5;28;01mreturn\u001b[39;00m data\u001b[38;5;241m.\u001b[39m_view()\n\u001b[0;32m    209\u001b[0m \u001b[38;5;66;03m# - Cases checked above all return/raise before reaching here - #\u001b[39;00m\n\u001b[1;32m--> 211\u001b[0m tdarr \u001b[38;5;241m=\u001b[39m \u001b[43mTimedeltaArray\u001b[49m\u001b[38;5;241;43m.\u001b[39;49m\u001b[43m_from_sequence_not_strict\u001b[49m\u001b[43m(\u001b[49m\n\u001b[0;32m    212\u001b[0m \u001b[43m    \u001b[49m\u001b[43mdata\u001b[49m\u001b[43m,\u001b[49m\u001b[43m \u001b[49m\u001b[43mfreq\u001b[49m\u001b[38;5;241;43m=\u001b[39;49m\u001b[43mfreq\u001b[49m\u001b[43m,\u001b[49m\u001b[43m \u001b[49m\u001b[43munit\u001b[49m\u001b[38;5;241;43m=\u001b[39;49m\u001b[43munit\u001b[49m\u001b[43m,\u001b[49m\u001b[43m \u001b[49m\u001b[43mdtype\u001b[49m\u001b[38;5;241;43m=\u001b[39;49m\u001b[43mdtype\u001b[49m\u001b[43m,\u001b[49m\u001b[43m \u001b[49m\u001b[43mcopy\u001b[49m\u001b[38;5;241;43m=\u001b[39;49m\u001b[43mcopy\u001b[49m\n\u001b[0;32m    213\u001b[0m \u001b[43m\u001b[49m\u001b[43m)\u001b[49m\n\u001b[0;32m    214\u001b[0m refs \u001b[38;5;241m=\u001b[39m \u001b[38;5;28;01mNone\u001b[39;00m\n\u001b[0;32m    215\u001b[0m \u001b[38;5;28;01mif\u001b[39;00m \u001b[38;5;129;01mnot\u001b[39;00m copy \u001b[38;5;129;01mand\u001b[39;00m \u001b[38;5;28misinstance\u001b[39m(data, (ABCSeries, Index)):\n",
      "File \u001b[1;32mc:\\Users\\Alexander.Oakley\\my-stuff-noonedrive\\Code\\proj\\create-BoFCT-repos\\.venv\\Lib\\site-packages\\pandas\\core\\arrays\\timedeltas.py:260\u001b[0m, in \u001b[0;36mTimedeltaArray._from_sequence_not_strict\u001b[1;34m(cls, data, dtype, copy, freq, unit)\u001b[0m\n\u001b[0;32m    256\u001b[0m     dtype \u001b[38;5;241m=\u001b[39m _validate_td64_dtype(dtype)\n\u001b[0;32m    258\u001b[0m \u001b[38;5;28;01massert\u001b[39;00m unit \u001b[38;5;129;01mnot\u001b[39;00m \u001b[38;5;129;01min\u001b[39;00m [\u001b[38;5;124m\"\u001b[39m\u001b[38;5;124mY\u001b[39m\u001b[38;5;124m\"\u001b[39m, \u001b[38;5;124m\"\u001b[39m\u001b[38;5;124my\u001b[39m\u001b[38;5;124m\"\u001b[39m, \u001b[38;5;124m\"\u001b[39m\u001b[38;5;124mM\u001b[39m\u001b[38;5;124m\"\u001b[39m]  \u001b[38;5;66;03m# caller is responsible for checking\u001b[39;00m\n\u001b[1;32m--> 260\u001b[0m data, inferred_freq \u001b[38;5;241m=\u001b[39m \u001b[43msequence_to_td64ns\u001b[49m\u001b[43m(\u001b[49m\u001b[43mdata\u001b[49m\u001b[43m,\u001b[49m\u001b[43m \u001b[49m\u001b[43mcopy\u001b[49m\u001b[38;5;241;43m=\u001b[39;49m\u001b[43mcopy\u001b[49m\u001b[43m,\u001b[49m\u001b[43m \u001b[49m\u001b[43munit\u001b[49m\u001b[38;5;241;43m=\u001b[39;49m\u001b[43munit\u001b[49m\u001b[43m)\u001b[49m\n\u001b[0;32m    262\u001b[0m \u001b[38;5;28;01mif\u001b[39;00m dtype \u001b[38;5;129;01mis\u001b[39;00m \u001b[38;5;129;01mnot\u001b[39;00m \u001b[38;5;28;01mNone\u001b[39;00m:\n\u001b[0;32m    263\u001b[0m     data \u001b[38;5;241m=\u001b[39m astype_overflowsafe(data, dtype\u001b[38;5;241m=\u001b[39mdtype, copy\u001b[38;5;241m=\u001b[39m\u001b[38;5;28;01mFalse\u001b[39;00m)\n",
      "File \u001b[1;32mc:\\Users\\Alexander.Oakley\\my-stuff-noonedrive\\Code\\proj\\create-BoFCT-repos\\.venv\\Lib\\site-packages\\pandas\\core\\arrays\\timedeltas.py:1042\u001b[0m, in \u001b[0;36msequence_to_td64ns\u001b[1;34m(data, copy, unit, errors)\u001b[0m\n\u001b[0;32m   1039\u001b[0m \u001b[38;5;66;03m# Convert whatever we have into timedelta64[ns] dtype\u001b[39;00m\n\u001b[0;32m   1040\u001b[0m \u001b[38;5;28;01mif\u001b[39;00m data\u001b[38;5;241m.\u001b[39mdtype \u001b[38;5;241m==\u001b[39m \u001b[38;5;28mobject\u001b[39m \u001b[38;5;129;01mor\u001b[39;00m is_string_dtype(data\u001b[38;5;241m.\u001b[39mdtype):\n\u001b[0;32m   1041\u001b[0m     \u001b[38;5;66;03m# no need to make a copy, need to convert if string-dtyped\u001b[39;00m\n\u001b[1;32m-> 1042\u001b[0m     data \u001b[38;5;241m=\u001b[39m \u001b[43m_objects_to_td64ns\u001b[49m\u001b[43m(\u001b[49m\u001b[43mdata\u001b[49m\u001b[43m,\u001b[49m\u001b[43m \u001b[49m\u001b[43munit\u001b[49m\u001b[38;5;241;43m=\u001b[39;49m\u001b[43munit\u001b[49m\u001b[43m,\u001b[49m\u001b[43m \u001b[49m\u001b[43merrors\u001b[49m\u001b[38;5;241;43m=\u001b[39;49m\u001b[43merrors\u001b[49m\u001b[43m)\u001b[49m\n\u001b[0;32m   1043\u001b[0m     copy \u001b[38;5;241m=\u001b[39m \u001b[38;5;28;01mFalse\u001b[39;00m\n\u001b[0;32m   1045\u001b[0m \u001b[38;5;28;01melif\u001b[39;00m is_integer_dtype(data\u001b[38;5;241m.\u001b[39mdtype):\n\u001b[0;32m   1046\u001b[0m     \u001b[38;5;66;03m# treat as multiples of the given unit\u001b[39;00m\n",
      "File \u001b[1;32mc:\\Users\\Alexander.Oakley\\my-stuff-noonedrive\\Code\\proj\\create-BoFCT-repos\\.venv\\Lib\\site-packages\\pandas\\core\\arrays\\timedeltas.py:1155\u001b[0m, in \u001b[0;36m_objects_to_td64ns\u001b[1;34m(data, unit, errors)\u001b[0m\n\u001b[0;32m   1152\u001b[0m \u001b[38;5;66;03m# coerce Index to np.ndarray, converting string-dtype if necessary\u001b[39;00m\n\u001b[0;32m   1153\u001b[0m values \u001b[38;5;241m=\u001b[39m np\u001b[38;5;241m.\u001b[39marray(data, dtype\u001b[38;5;241m=\u001b[39mnp\u001b[38;5;241m.\u001b[39mobject_, copy\u001b[38;5;241m=\u001b[39m\u001b[38;5;28;01mFalse\u001b[39;00m)\n\u001b[1;32m-> 1155\u001b[0m result \u001b[38;5;241m=\u001b[39m \u001b[43marray_to_timedelta64\u001b[49m\u001b[43m(\u001b[49m\u001b[43mvalues\u001b[49m\u001b[43m,\u001b[49m\u001b[43m \u001b[49m\u001b[43munit\u001b[49m\u001b[38;5;241;43m=\u001b[39;49m\u001b[43munit\u001b[49m\u001b[43m,\u001b[49m\u001b[43m \u001b[49m\u001b[43merrors\u001b[49m\u001b[38;5;241;43m=\u001b[39;49m\u001b[43merrors\u001b[49m\u001b[43m)\u001b[49m\n\u001b[0;32m   1156\u001b[0m \u001b[38;5;28;01mreturn\u001b[39;00m result\u001b[38;5;241m.\u001b[39mview(\u001b[38;5;124m\"\u001b[39m\u001b[38;5;124mtimedelta64[ns]\u001b[39m\u001b[38;5;124m\"\u001b[39m)\n",
      "File \u001b[1;32mtimedeltas.pyx:425\u001b[0m, in \u001b[0;36mpandas._libs.tslibs.timedeltas.array_to_timedelta64\u001b[1;34m()\u001b[0m\n",
      "\u001b[1;31mValueError\u001b[0m: unit must not be specified if the input contains a str"
     ]
    }
   ],
   "source": [
    "df[HeaderMapping.demo_status_date] = pd.to_timedelta(df[HeaderMapping.demo_status_date], errors='coerce')\n"
   ]
  },
  {
   "cell_type": "code",
   "execution_count": null,
   "metadata": {},
   "outputs": [],
   "source": []
  }
 ],
 "metadata": {
  "kernelspec": {
   "display_name": ".venv",
   "language": "python",
   "name": "python3"
  },
  "language_info": {
   "codemirror_mode": {
    "name": "ipython",
    "version": 3
   },
   "file_extension": ".py",
   "mimetype": "text/x-python",
   "name": "python",
   "nbconvert_exporter": "python",
   "pygments_lexer": "ipython3",
   "version": "3.11.2"
  }
 },
 "nbformat": 4,
 "nbformat_minor": 2
}
